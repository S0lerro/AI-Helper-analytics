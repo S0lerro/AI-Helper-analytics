{
 "cells": [
  {
   "cell_type": "code",
   "execution_count": 2,
   "id": "18ce7761-1f86-4299-81ac-87efafcf1bde",
   "metadata": {},
   "outputs": [],
   "source": [
    "import numpy as np\n",
    "from collections import OrderedDict\n",
    "from transformers import MPNetPreTrainedModel, MPNetModel, AutoTokenizer\n",
    "import torch"
   ]
  },
  {
   "cell_type": "code",
   "execution_count": 21,
   "id": "a41acc65-48d9-4448-a0c7-2e3d18924c07",
   "metadata": {},
   "outputs": [
    {
     "name": "stdout",
     "output_type": "stream",
     "text": [
      "in ESGFY\n"
     ]
    }
   ],
   "source": [
    "# Mean Pooling - Take attention mask into account for correct averaging\n",
    "def mean_pooling(model_output, attention_mask):\n",
    "        token_embeddings = model_output #First element of model_output contains all token embeddings\n",
    "        input_mask_expanded = attention_mask.unsqueeze(-1).expand(token_embeddings.size()).float()\n",
    "        return torch.sum(token_embeddings * input_mask_expanded, 1) / torch.clamp(input_mask_expanded.sum(1), min=1e-9)\n",
    "\n",
    "# Definition of ESGify class because of custom,sentence-transformers like, mean pooling function and classifier head\n",
    "class ESGify(MPNetPreTrainedModel):\n",
    "    \"\"\"Model for Classification ESG risks from text.\"\"\"\n",
    "\n",
    "    def __init__(self,config): #tuning only the head\n",
    "        super().__init__(config)\n",
    "        # Instantiate Parts of model\n",
    "        self.mpnet = MPNetModel(config,add_pooling_layer=False)\n",
    "        self.id2label =  config.id2label\n",
    "        self.label2id =  config.label2id\n",
    "        self.classifier = torch.nn.Sequential(OrderedDict([('norm',torch.nn.BatchNorm1d(768)),\n",
    "                                                ('linear',torch.nn.Linear(768,512)),\n",
    "                                                ('act',torch.nn.ReLU()),\n",
    "                                                ('batch_n',torch.nn.BatchNorm1d(512)),\n",
    "                                                ('drop_class', torch.nn.Dropout(0.2)),\n",
    "                                                ('class_l',torch.nn.Linear(512 ,47))]))\n",
    "\n",
    "\n",
    "    def forward(self, input_ids, attention_mask):\n",
    "         # Feed input to mpnet model\n",
    "        outputs = self.mpnet(input_ids=input_ids,\n",
    "                             attention_mask=attention_mask)\n",
    "         \n",
    "        # mean pooling dataset and eed input to classifier to compute logits\n",
    "        logits = self.classifier( mean_pooling(outputs['last_hidden_state'],attention_mask))\n",
    "         \n",
    "        # apply sigmoid\n",
    "        logits  = 1.0 / (1.0 + torch.exp(-logits))\n",
    "        return logits\n",
    "\n",
    "model = ESGify.from_pretrained('ai-lab/ESGify')\n",
    "tokenizer = AutoTokenizer.from_pretrained('ai-lab/ESGify')\n",
    "\n",
    "texts = [\"Шольц может приехать в Москву до досрочных парламентских выборов, которые пройдут в Германии 23 февраля, заявил Кизеветтер. Кремль опровергал подготовку визита немецкого канцлера. Канцлер Германии Олаф Шольц может посетить Москву до досрочных парламентских выборов, назначенных в стране на 23 февраля. Об этом заявил депутат бундестага от Христианско-демократического союза (ХДС) Родерих Кизеветтер в социальной сети X.«Встреча [будущего президента США Дональда] Трампа и Путина в настоящее время запланирована на март», — добавил парламентарий, не уточнив источник этих сведений. В Германии 23 февраля пройдут досрочные парламентские выборы. Президент страны Франк-Вальтер Штайнмайер распустил бундестаг и назначил их после того, как парламент отказал в доверии правительству Шольца. В ноябре в Германии распалась правящая «светофорная» коалиция, куда входили Социал-демократическая партия канцлера (СДПГ), Свободная демократическая партия (СвДП) и «Зеленые».\"]\n",
    "to_model = tokenizer.batch_encode_plus(\n",
    "                  texts,\n",
    "                  add_special_tokens=True,\n",
    "                  max_length=140,\n",
    "                  return_token_type_ids=False,\n",
    "                  padding=\"max_length\",\n",
    "                  truncation=True,\n",
    "                  return_attention_mask=True,\n",
    "                  return_tensors='pt',\n",
    "                )\n",
    "results = model(**to_model)\n",
    "ban = ['Economic Crime', 'Legal Proceedings & Law Violations', 'Corporate Governance', 'Values and Ethics', 'Risk Management and Internal Control', 'Strategy Implementation', 'Disclosure', 'Responsible Investment & Greenwashing', 'Supply Chain (Economic / Governance)', 'Indigenous People', 'Human Rights', 'Emergencies (Social)', 'Land Acquisition and Resettlement (S)', 'Data Safety', 'Freedom of Association and Right to Organise', 'Minimum Age and Child Labour', 'Forced Labour', 'Discrimination', 'Retrenchment', 'Labor Relations Management', 'Supply Chain (Social)']\n",
    "\n",
    "if str(model.id2label[torch.topk(results, k=47).indices.tolist()[0][0]]) not in ban:\n",
    "    print(\"in ESGFY\")\n",
    "else:\n",
    "    print(\"not in ESGFY\")"
   ]
  },
  {
   "cell_type": "code",
   "execution_count": 23,
   "id": "63efe51a-a443-4019-973a-308cf6ea880f",
   "metadata": {},
   "outputs": [
    {
     "data": {
      "application/vnd.jupyter.widget-view+json": {
       "model_id": "7fd8192a52334fb5a128d2be43a0d268",
       "version_major": 2,
       "version_minor": 0
      },
      "text/plain": [
       "tokenizer_config.json:   0%|          | 0.00/375 [00:00<?, ?B/s]"
      ]
     },
     "metadata": {},
     "output_type": "display_data"
    },
    {
     "name": "stderr",
     "output_type": "stream",
     "text": [
      "C:\\Users\\ЯРОСЛАВ\\AppData\\Local\\Programs\\Python\\Python311\\Lib\\site-packages\\huggingface_hub\\file_download.py:1132: FutureWarning: `resume_download` is deprecated and will be removed in version 1.0.0. Downloads always resume when possible. If you want to force a new download, use `force_download=True`.\n",
      "  warnings.warn(\n"
     ]
    },
    {
     "data": {
      "application/vnd.jupyter.widget-view+json": {
       "model_id": "278e45f29d1842e7be5aaa67632b6daa",
       "version_major": 2,
       "version_minor": 0
      },
      "text/plain": [
       "config.json:   0%|          | 0.00/730 [00:00<?, ?B/s]"
      ]
     },
     "metadata": {},
     "output_type": "display_data"
    },
    {
     "data": {
      "application/vnd.jupyter.widget-view+json": {
       "model_id": "12a8081c90324387bdd697addf0178a5",
       "version_major": 2,
       "version_minor": 0
      },
      "text/plain": [
       "spiece.model:   0%|          | 0.00/4.31M [00:00<?, ?B/s]"
      ]
     },
     "metadata": {},
     "output_type": "display_data"
    },
    {
     "data": {
      "application/vnd.jupyter.widget-view+json": {
       "model_id": "90eb296c0a5d478abb90b86b204b43ea",
       "version_major": 2,
       "version_minor": 0
      },
      "text/plain": [
       "special_tokens_map.json:   0%|          | 0.00/65.0 [00:00<?, ?B/s]"
      ]
     },
     "metadata": {},
     "output_type": "display_data"
    },
    {
     "name": "stderr",
     "output_type": "stream",
     "text": [
      "You are using the default legacy behaviour of the <class 'transformers.models.t5.tokenization_t5.T5Tokenizer'>. This is expected, and simply means that the `legacy` (previous) behavior will be used so nothing changes for you. If you want to use the new behaviour, set `legacy=False`. This should only be set if you understand what it means, and thoroughly read the reason why this was added as explained in https://github.com/huggingface/transformers/pull/24565\n",
      "C:\\Users\\ЯРОСЛАВ\\AppData\\Local\\Programs\\Python\\Python311\\Lib\\site-packages\\transformers\\convert_slow_tokenizer.py:560: UserWarning: The sentencepiece tokenizer that you are converting to a fast tokenizer uses the byte fallback option which is not implemented in the fast tokenizers. In practice this means that the fast version of the tokenizer can produce unknown tokens whereas the sentencepiece version would have converted these unknown tokens into a sequence of byte tokens matching the original piece of text.\n",
      "  warnings.warn(\n"
     ]
    },
    {
     "data": {
      "application/vnd.jupyter.widget-view+json": {
       "model_id": "9f4328f838aa440fb470ead5a14fe9bf",
       "version_major": 2,
       "version_minor": 0
      },
      "text/plain": [
       "pytorch_model.bin:   0%|          | 0.00/2.33G [00:00<?, ?B/s]"
      ]
     },
     "metadata": {},
     "output_type": "display_data"
    },
    {
     "name": "stderr",
     "output_type": "stream",
     "text": [
      "Error while downloading from https://cdn-lfs.hf.co/csebuetnlp/mT5_multilingual_XLSum/1899a041aceedfd0c9c67e87f2597bc597ce6f4c1f21b5d35a6325322608a898?response-content-disposition=inline%3B+filename*%3DUTF-8%27%27pytorch_model.bin%3B+filename%3D%22pytorch_model.bin%22%3B&response-content-type=application%2Foctet-stream&Expires=1739465713&Policy=eyJTdGF0ZW1lbnQiOlt7IkNvbmRpdGlvbiI6eyJEYXRlTGVzc1RoYW4iOnsiQVdTOkVwb2NoVGltZSI6MTczOTQ2NTcxM319LCJSZXNvdXJjZSI6Imh0dHBzOi8vY2RuLWxmcy5oZi5jby9jc2VidWV0bmxwL21UNV9tdWx0aWxpbmd1YWxfWExTdW0vMTg5OWEwNDFhY2VlZGZkMGM5YzY3ZTg3ZjI1OTdiYzU5N2NlNmY0YzFmMjFiNWQzNWE2MzI1MzIyNjA4YTg5OD9yZXNwb25zZS1jb250ZW50LWRpc3Bvc2l0aW9uPSomcmVzcG9uc2UtY29udGVudC10eXBlPSoifV19&Signature=TCi9t-Mm5SDWZsv1wYe0dS93c9Jwj6UftW88lSEG7OvzDGmIFlbYFh7fbLn1LuUvVAItURxdy7CI03bnBbP7MLfw1jkuQazuvLjrjOFtwzvuzac%7Ey%7EH1Zr0ljjmuJk7f7AMZ2cwVSPZbVFD974rwhTSfTgIc0srBOPfWfXsuU8eOsJe4CBYn5Cvc69k7hAqv9xvphmtuHRDj5Q3yk6aPE39gJ13q5GjFDYK5a2TJyGUV6QYh5TsBovtoxYK4ovUJn%7EffEpVQ7YFg350il6-4TMdzIMH2zI1FprJ0%7ESVfKYk-auEz-pVFAsiibstwlxUGNzM0EhIVvNf02ek%7ENOdEyA__&Key-Pair-Id=K3RPWS32NSSJCE: HTTPSConnectionPool(host='cdn-lfs.hf.co', port=443): Read timed out.\n",
      "Trying to resume download...\n"
     ]
    },
    {
     "data": {
      "application/vnd.jupyter.widget-view+json": {
       "model_id": "1c7e5b65e2504cd09af8823bfeb3124c",
       "version_major": 2,
       "version_minor": 0
      },
      "text/plain": [
       "pytorch_model.bin:  23%|##3       | 545M/2.33G [00:00<?, ?B/s]"
      ]
     },
     "metadata": {},
     "output_type": "display_data"
    },
    {
     "name": "stdout",
     "output_type": "stream",
     "text": [
      "Канцлер Германии Олаф Шольц может посетить Москву на март, заявил депутат бундестага Родерих Кизеветтер.\n"
     ]
    }
   ],
   "source": [
    "import re\n",
    "from transformers import AutoTokenizer, AutoModelForSeq2SeqLM\n",
    "\n",
    "WHITESPACE_HANDLER = lambda k: re.sub('\\s+', ' ', re.sub('\\n+', ' ', k.strip()))\n",
    "\n",
    "article_text = texts[0]\n",
    "\n",
    "model_name = \"csebuetnlp/mT5_multilingual_XLSum\"\n",
    "tokenizer = AutoTokenizer.from_pretrained(model_name)\n",
    "model = AutoModelForSeq2SeqLM.from_pretrained(model_name)\n",
    "\n",
    "input_ids = tokenizer(\n",
    "    [WHITESPACE_HANDLER(article_text)],\n",
    "    return_tensors=\"pt\",\n",
    "    padding=\"max_length\",\n",
    "    truncation=True,\n",
    "    max_length=len(article_text)\n",
    ")[\"input_ids\"]\n",
    "\n",
    "output_ids = model.generate(\n",
    "    input_ids=input_ids,\n",
    "    max_length=50,\n",
    "    no_repeat_ngram_size=2,\n",
    "    num_beams=4\n",
    ")[0]\n",
    "\n",
    "summary = tokenizer.decode(\n",
    "    output_ids,\n",
    "    skip_special_tokens=True,\n",
    "    clean_up_tokenization_spaces=False\n",
    ")\n",
    "\n",
    "print(summary)\n"
   ]
  },
  {
   "cell_type": "code",
   "execution_count": null,
   "id": "06c7562a-3ebe-4ce6-9d1c-fb9b87fd4d62",
   "metadata": {},
   "outputs": [],
   "source": []
  }
 ],
 "metadata": {
  "kernelspec": {
   "display_name": "Python 3 (ipykernel)",
   "language": "python",
   "name": "python3"
  },
  "language_info": {
   "codemirror_mode": {
    "name": "ipython",
    "version": 3
   },
   "file_extension": ".py",
   "mimetype": "text/x-python",
   "name": "python",
   "nbconvert_exporter": "python",
   "pygments_lexer": "ipython3",
   "version": "3.11.0"
  }
 },
 "nbformat": 4,
 "nbformat_minor": 5
}
